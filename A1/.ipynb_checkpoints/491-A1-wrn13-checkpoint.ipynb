{
 "cells": [
  {
   "cell_type": "markdown",
   "metadata": {},
   "source": [
    "## EECS 491 Assignment 1"
   ]
  },
  {
   "cell_type": "markdown",
   "metadata": {},
   "source": [
    "## William Nourse wrn13"
   ]
  },
  {
   "cell_type": "code",
   "execution_count": 1,
   "metadata": {},
   "outputs": [],
   "source": [
    "from scipy import stats\n",
    "import matplotlib.pyplot as plt\n",
    "import numpy as np"
   ]
  },
  {
   "cell_type": "markdown",
   "metadata": {},
   "source": [
    "### Q1. Basic probability (10 pts)\n",
    "\n",
    "1.1. Prove (5 pts)\n",
    "$$ p(x,y|z) = p(x|z)p(y|x,z) $$"
   ]
  },
  {
   "cell_type": "markdown",
   "metadata": {},
   "source": [
    "Given:\n",
    "$$ p(x|z) = \\frac{p(x,z)}{p(z)} $$\n",
    "$$ p(y|x,z) = \\frac{p(y,x,z)}{p(x,z)} = \\frac{p(x,y,z)}{p(x,z)} $$\n",
    "Then:\n",
    "$$ p(x|z)p(y|x,z) = \\frac{p(x,z)}{p(z)}\\frac{p(x,y,z)}{p(x,z)} $$\n",
    "$$ p(x|z)p(y|x,z) = \\frac{p(x,y,z)}{p(z)} $$\n",
    "$$ p(x|z)p(y|x,z) = p(x,y|z) $$"
   ]
  },
  {
   "cell_type": "markdown",
   "metadata": {},
   "source": [
    "1.2. Prove (5 pts)\n",
    "$$ p(x|y,z) = \\frac{p(y|x,z)p(x|z)}{p(y|z)} $$"
   ]
  },
  {
   "cell_type": "markdown",
   "metadata": {},
   "source": [
    "Given:\n",
    "$$ p(x|z) = \\frac{p(x,z)}{p(z)} $$\n",
    "$$ p(y|z) = \\frac{p(y,z)}{p(z)} $$\n",
    "$$ p(y|x,z) = \\frac{p(y,x,z)}{p(x,z)} = \\frac{p(x,y,z)}{p(x,z)} $$\n",
    "$$ p(x|y,z) = \\frac{p(x,y,z)}{p(y,z)} $$\n",
    "Then:\n",
    "$$ \\frac{p(y|x,z)p(x|z)}{p(y|z)} = \\frac{p(x,y,z)p(x,z)p(z)}{p(x,z)p(z)p(y,z)} $$\n",
    "$$ \\frac{p(y|x,z)p(x|z)}{p(y|z)} = \\frac{p(x,y,z)}{p(y,z)} $$\n",
    "$$ \\frac{p(y|x,z)p(x|z)}{p(y|z)} = p(x|y,z) $$"
   ]
  },
  {
   "cell_type": "markdown",
   "metadata": {},
   "source": [
    "### Q2. Independence (10 pts)\n",
    "\n",
    "2.1 Show that independence is not transitive, i.e. \n",
    "$a \\perp b \\wedge b \\perp c \\nRightarrow a \\perp c$. Define a joint probability distribution $p(a,b,c)$ for which the previous expression holds and provide an interpretation. (5 pts)"
   ]
  },
  {
   "cell_type": "markdown",
   "metadata": {},
   "source": [
    "Let $\\mathcal{P}$ be the set of hospital ids for patients with pneumonia, $a$ be the ids for males with pneumonia, $c$ be the ids for females with pneumonia, and $b$ be the ids for children with pneumonia.\n",
    "$$\\mathcal{P} = \\{1,2,3,4,5,6,7,8,9,10\\}, a = \\{1,3,5,7,9\\}, b = \\{5,6,7,8\\}, c = \\{2,4,6,8,10\\}$$\n",
    "Then\n",
    "$$p(a,b) = p(b,c) = \\frac{2}{10}, p(a)p(b) = p(b)p(c) = \\frac{5}{10}*\\frac{4}{10} = \\frac{20}{100} = \\frac{2}{10}$$\n",
    "So a and b are independent, and b and c are independent.\n",
    "$$p(a,c) = 0, p(a)p(c) = \\frac{5}{10}*\\frac{5}{10} = \\frac{1}{4} \\neq 0$$\n",
    "So a and c are not independent. Knowing whether an id corresponds to a child does not indicate whether that patient is male or female, however knowing if a patient is male also indicates if they are female."
   ]
  },
  {
   "cell_type": "markdown",
   "metadata": {},
   "source": [
    "2.2 Show that conditional independence does not imply marginal independence, i.e. $a \\perp b | c \\nRightarrow a \\perp b$. Again provide an example. (5 pts)"
   ]
  },
  {
   "cell_type": "markdown",
   "metadata": {},
   "source": [
    "We have two opaque candy dispensers, one with infinite red candies and one with infinite red candies and blue candies. Each dispenser gives one candy at a time. One of the dispensers is chosen at random. If $a$ is the probability that the first candy given is red, and $b$ is the probability that the second candy given is red, these probabilities are not independent since depending on the first candy we can infer which machine we are pulling from. However if we know which dispenser we are pulling from ($c$), then $a$ and $b$ are no longer independent."
   ]
  },
  {
   "cell_type": "markdown",
   "metadata": {},
   "source": [
    "### Q3. Inspector Clouseau re-revisited (20 pts)\n",
    "\n",
    "3.1 Write a program to evaluate $p(B|K)$ in Example 1.3 in Barber. Write your code and choose your data representations so that it is easy to use it to solve the remaining questions. Show that it correctly computes the value in the example. (5 pts)"
   ]
  },
  {
   "cell_type": "code",
   "execution_count": 2,
   "metadata": {},
   "outputs": [
    {
     "name": "stdout",
     "output_type": "stream",
     "text": [
      "0.7281553398058251\n"
     ]
    }
   ],
   "source": [
    "# Murderer = True, not murderer = False\n",
    "dist = [[0,0,0.3], # B = False, M = False\n",
    "       [0,1,0.2],  # B = False, M = True\n",
    "       [1,0,0.6],  # B = True, M = False\n",
    "       [1,1,0.1]]  # B = True, M = True\n",
    "\n",
    "def getVal(dist,b,m): # get the probability value in the distribution at the given indices of b and m\n",
    "    val = 0\n",
    "    for item in dist:\n",
    "        if (item[0] == b) and (item[1] == m):\n",
    "            val = item[2]\n",
    "    return val\n",
    "\n",
    "def getTrue(dist,var):\n",
    "    if var:\n",
    "        b = 0\n",
    "        m = 1\n",
    "    else:\n",
    "        b = 1\n",
    "        m = 0\n",
    "    val = getVal(dist,b,m)\n",
    "    return val\n",
    "\n",
    "def clouseau(dist,param): # get the probability that the desired person (param=0 is B, 1 is M) murdered the victim\n",
    "    if param:\n",
    "        var = 1\n",
    "        other = 0\n",
    "    else:\n",
    "        var = 0\n",
    "        other = 1\n",
    "    pVar = getTrue(dist,var) # prior probability that var is True\n",
    "    pOther = getTrue(dist,other) # prior probability that other is True\n",
    "    pBothTrue = dist[3][2]\n",
    "    numerator = pVar*(pBothTrue*pOther + pVar*(1-pOther))\n",
    "    denominator = dist[2][2]*(dist[3][2]*dist[1][2] + dist[2][2]*(1-dist[1][2])) + (1-dist[2][2])*(dist[1][2]*dist[1][2] + dist[0][2]*(1-dist[1][2]))\n",
    "    probVar = numerator/denominator\n",
    "    return probVar\n",
    "\n",
    "print(clouseau(dist,0))"
   ]
  },
  {
   "cell_type": "markdown",
   "metadata": {},
   "source": [
    "3.2 Define a different distribution for $p(K|M,B)$.  Your new distribution should result in the outcome that $p(B|K)$ is either $<0.1$ or $>0.9$, i.e. reasonably strong evidence.  Use the original values of $p(B)$ and $p(M)$ from the example.  Provide (invent) a reasonable justification for the value of each entry in $p(K|M,B)$. (5 pts)"
   ]
  },
  {
   "cell_type": "code",
   "execution_count": 3,
   "metadata": {},
   "outputs": [
    {
     "name": "stdout",
     "output_type": "stream",
     "text": [
      "0.9018404907975459\n"
     ]
    }
   ],
   "source": [
    "distNew = [[0,0,0.05], # B = False, M = False\n",
    "       [0,1,0.2],  # B = False, M = True\n",
    "       [1,0,0.6],  # B = True, M = False\n",
    "       [1,1,0.05]]  # B = True, M = Tru\n",
    "\n",
    "print(clouseau(distNew,0))"
   ]
  },
  {
   "cell_type": "markdown",
   "metadata": {},
   "source": [
    "3.3 Derive the equation for $p(M|K)$. (5 pts)"
   ]
  },
  {
   "cell_type": "markdown",
   "metadata": {},
   "source": [
    "Using $b$ for the two states of $B$ and $m$ for the two states of $M$,\n",
    "$$p(M|K) = \\sum_{b}p(b,M|K)$$\n",
    "$$p(M|K) = \\sum_{b}\\frac{p(b,M,K)}{p(K)}$$\n",
    "$$p(M|K) = \\frac{\\sum_{b}p(K|b,M)p(b,M)}{\\sum_{b,m}p(K|b,m),p(b,m)}$$\n",
    "$$p(M|K) = \\frac{p(M)\\sum_{b}p(K|b,m)p(b)}{\\sum_{m}p(m)\\sum_{b}p(K|b,m)p(b)}$$"
   ]
  },
  {
   "cell_type": "markdown",
   "metadata": {},
   "source": [
    "3.4 Calculate it's value for both the original $p(K|M,B)$ and the one you defined yourself. Is it possible to provide a summary of the main factors that contributed to the value?  Why/Why not?  Explain. (5 pts)"
   ]
  },
  {
   "cell_type": "code",
   "execution_count": 4,
   "metadata": {},
   "outputs": [
    {
     "name": "stdout",
     "output_type": "stream",
     "text": [
      "Using Barber's distribution, the probability that the Maid was the murderer is  0.06796116504854369\n",
      "Using my distribution, the probability that the Maid was the murderer is  0.06748466257668713\n"
     ]
    }
   ],
   "source": [
    "probMaidOld = clouseau(dist,1)\n",
    "probMaidNew = clouseau(distNew,1)\n",
    "print(\"Using Barber's distribution, the probability that the Maid was the murderer is \",probMaidOld)\n",
    "print(\"Using my distribution, the probability that the Maid was the murderer is \", probMaidNew)"
   ]
  },
  {
   "cell_type": "markdown",
   "metadata": {},
   "source": [
    "The main factor that contributes to this value is the original prior, as that reduces the magnitude of the whole expression and remained unchanged between distributions."
   ]
  },
  {
   "cell_type": "markdown",
   "metadata": {},
   "source": [
    "### Q4. Biased views (20 pts)\n",
    "\n",
    "4.1 Write a program that calculates the posterior distribution of the $\\theta$ (probability of heads) from the Binomial distribution given $y$ heads out of $n$ trials.  Feel free to use a package where the necessary distributions are defined as primitives. (5 pts)"
   ]
  },
  {
   "cell_type": "code",
   "execution_count": 39,
   "metadata": {},
   "outputs": [
    {
     "data": {
      "text/plain": [
       "Text(0.5, 1.0, '$p(\\\\theta|y=2,n=10)$')"
      ]
     },
     "execution_count": 39,
     "metadata": {},
     "output_type": "execute_result"
    },
    {
     "data": {
      "image/png": "[encoded data removed]",
      "text/plain": [
       "<Figure size 432x288 with 1 Axes>"
      ]
     },
     "metadata": {
      "needs_background": "light"
     },
     "output_type": "display_data"
    }
   ],
   "source": [
    "def calcBinomialPosterior(y,n,theta):\n",
    "    # liklihood is the binomial distribution\n",
    "    # we're using an uninformative prior p(theta)=1\n",
    "    posterior = stats.binom.pmf(y,n,theta)\n",
    "    \n",
    "    return posterior\n",
    "\n",
    "# Let's test it just to make sure the output looks reasonable\n",
    "y = 2\n",
    "n = 10\n",
    "theta = np.linspace(0,1)\n",
    "#posterior = calcBinomialPosteriorUninformed(y,n,theta)\n",
    "#print(posterior)\n",
    "fig = plt.figure()\n",
    "plt.plot(theta,calcBinomialPosteriorUninformed(y,n,theta))\n",
    "plt.title(r'$p(\\theta|y=2,n=10)$')"
   ]
  },
  {
   "cell_type": "markdown",
   "metadata": {},
   "source": [
    "4.2 Imagine three different views on the coin bias:\n",
    "- \"I believe strongly that the coin is biased to either mostly heads or mostly tails.\"\n",
    "- \"I believe strongly that the coin is unbiased\".\n",
    "- \"I don't know anything about the bias of the coin.\"\n",
    "\n",
    "Define and plot prior distributions that expresses each of these beliefs.  Provide a brief explanation. (5 pts)"
   ]
  },
  {
   "cell_type": "markdown",
   "metadata": {},
   "source": [
    "If we assume that the coin is mostly biased to heads or tails, then the shape of $p(\\theta)$ should have peaks at $\\theta=0$ and $\\theta=1$ with a steep valley in between. This is because we're assuming the bias is probably at either extreme, but it could be somewhere in the middle. For this and the later priors, I am using the $\\beta$-distribution due to its varied expression using only two parameters."
   ]
  },
  {
   "cell_type": "code",
   "execution_count": 42,
   "metadata": {},
   "outputs": [
    {
     "data": {
      "text/plain": [
       "Text(0.5, 1.0, '$p(\\\\theta)$ Assuming Strong Bias to Mostly Heads or Mostly Tails')"
      ]
     },
     "execution_count": 42,
     "metadata": {},
     "output_type": "execute_result"
    },
    {
     "data": {
      "image/png": "[encoded data removed]",
      "text/plain": [
       "<Figure size 432x288 with 1 Axes>"
      ]
     },
     "metadata": {
      "needs_background": "light"
     },
     "output_type": "display_data"
    }
   ],
   "source": [
    "# biased to either mostly heads or mostly tails\n",
    "fig1 = plt.figure()\n",
    "beta1 = stats.beta(0.1,0.1)\n",
    "plt.plot(theta,beta1.pdf(theta))\n",
    "plt.title(r'$p(\\theta)$ Assuming Strong Bias to Mostly Heads or Mostly Tails')"
   ]
  },
  {
   "cell_type": "markdown",
   "metadata": {},
   "source": [
    "If we assume that the coin is unbiased, then that corresponds to a value of 0.5 for $\\theta$. There should still be some probability on either side of 0.5 because we aren't 100% sure, but the peak should be pretty steep."
   ]
  },
  {
   "cell_type": "code",
   "execution_count": 43,
   "metadata": {},
   "outputs": [
    {
     "data": {
      "text/plain": [
       "Text(0.5, 1.0, '$p(\\\\theta)$ Assuming no Bias')"
      ]
     },
     "execution_count": 43,
     "metadata": {},
     "output_type": "execute_result"
    },
    {
     "data": {
      "image/png": "[encoded data removed]",
      "text/plain": [
       "<Figure size 432x288 with 1 Axes>"
      ]
     },
     "metadata": {
      "needs_background": "light"
     },
     "output_type": "display_data"
    }
   ],
   "source": [
    "# no bias\n",
    "fig2 = plt.figure()\n",
    "beta2 = stats.beta(10,10)\n",
    "plt.plot(theta,beta2.pdf(theta))\n",
    "plt.title(r'$p(\\theta)$ Assuming no Bias')"
   ]
  },
  {
   "cell_type": "markdown",
   "metadata": {},
   "source": [
    "If we have no prior knowledge, we have to weight all possible biases equally. The only way that this can be done is with a horizontal line."
   ]
  },
  {
   "cell_type": "code",
   "execution_count": 44,
   "metadata": {},
   "outputs": [
    {
     "data": {
      "text/plain": [
       "Text(0.5, 1.0, '$p(\\\\theta)$ Assuming no Bias Knowledge')"
      ]
     },
     "execution_count": 44,
     "metadata": {},
     "output_type": "execute_result"
    },
    {
     "data": {
      "image/png": "[encoded data removed]",
      "text/plain": [
       "<Figure size 432x288 with 1 Axes>"
      ]
     },
     "metadata": {
      "needs_background": "light"
     },
     "output_type": "display_data"
    }
   ],
   "source": [
    "# no information\n",
    "fig3 = plt.figure()\n",
    "beta3 = stats.beta(1,1)\n",
    "plt.plot(theta,beta3.pdf(theta))\n",
    "plt.title(r'$p(\\theta)$ Assuming no Bias Knowledge')"
   ]
  },
  {
   "cell_type": "markdown",
   "metadata": {},
   "source": [
    "4.3 Perform Bernoulli trials where one of these views is correct.  Show how the posterior distribution of $\\theta$ changes for each view for $n$=0, 1, 2, 5, 10, and 100.  Each view should have its own plot, but with the curves of the posterior after different numbers of trials overlayed. (5 pts)"
   ]
  },
  {
   "cell_type": "markdown",
   "metadata": {},
   "source": [
    "4.4 Is it possible that each view will always arrive at an accurate estimate of $\\theta$?  How might you determine which view is most consistent with the data after $n$ trials? (5 pts)"
   ]
  },
  {
   "cell_type": "markdown",
   "metadata": {},
   "source": [
    "### Q5. Inference using the Poisson distribution (20 pts)\n",
    "\n",
    "Suppose you observe for 3 seconds and detect a series of events that occur at the following times (in seconds): 0.53, 0.65, 0.91, 1.19, 1.30, 1.33, 1.90, 2.01, 2.48.\n",
    "\n",
    "5.1 Model the rate at which the events are produced using a Poisson distribution where $\\lambda$ is the number of events $n$ observed per unit time (1 second).  Show the likelihood equation and plot it for three different values of $\\lambda$: less, about equal, and greater than what you estimate (intuitively) from the data. (5 pts)\n",
    "\n",
    "5.2 Derive the posterior distribution of $\\lambda$ assuming a Gamma prior (usually defined with parameters $\\alpha$ and $\\beta$).  The posterior should have the form $p(\\lambda | n, T, \\alpha, \\beta)$ where $T$ is the total duration of the observation period and $n$ is the number of events observed within that period. (5 pts)\n",
    "\n",
    "5.3 Show that the Gamma distribution is a *conjugate prior* for the Poisson distribution, i.e. it is also a Gamma distribution, but defined by parameters $\\alpha'$ and $\\beta'$ that are functions of the prior and likelihood parameters. (5 pts)\n",
    "\n",
    "5.4 Plot the posterior distribution for the data above at times $T$ = 0, 0.5, and 1.5.  Overlay the curves on a single plot.  Comment how it is possible for your beliefs to change even though no new events have been observed. (5 pts)\n"
   ]
  },
  {
   "cell_type": "markdown",
   "metadata": {},
   "source": [
    "### Q6. Exploration (40 pts)\n",
    "\n",
    "In these problems, you are meant to do creative exploration.  Define and explore:\n",
    "\n",
    "6.1 A discrete inference problem (20 pts)\n",
    "\n",
    "6.2 A continuous inference problem (20 pts)\n",
    "\n",
    "This is meant to be open-ended; you should not feel the need to write a book chapter; but neither should you just change the numbers in one of the problems above.  After doing the readings and problems above, you should pick a concept you want to understand better or an simple modeling idea you want to try out.  You can also start to explore ideas for your project.  The general idea is for you to teach yourself (and potentially a classate) about a concept from the assignments and readings or solidify your understanding of required technical background. For additional guidance, see the grading rubric below.\n",
    "\n",
    "You can use the readings and other sources for inspiration, but here are a few ideas:\n",
    "- An inference problem using categorical data\n",
    "- A disease for which there are two different tests\n",
    "- A two-dimensional continuous inference problem\n",
    "- The idea of a conjugate prior\n"
   ]
  },
  {
   "cell_type": "markdown",
   "metadata": {},
   "source": [
    "#### Exploration Grading Rubric\n",
    "\n",
    "Exploration problems will be graded according the elements in the table below.  The scores in the column headers indicate the number of points possible for each rubric element (given in the rows).  A score of zero for an element is possible if it is missing entirely.\n",
    "\n",
    "|     | Substandard (+1) | Basic (+2) | Good (+3) | Excellent (+5) |\n",
    "| :-- | :----------- | :---- | :--- | :-------- |\n",
    "| <b> Pedagogical Value </b> | No clear statement of idea or concept being explored or explained; lack of motivating questions. | Simple problem with adequate motivation; still could be a useful addition to an assignment. | Good choice of problem with effective illustrations of concept(s).  Demonstrates a deeper level of understanding. | Problem also illustrates or clarifies common conceptual difficulties or misconceptions. |\n",
    "| <b> Novelty of Ideas </b> | Copies existing problem or makes only a trivial modification; lack of citation(s) for source of inspiration. | Concepts are similar to those covered in the assignment but with some modifications of an existing exericse. | Ideas have clear pedagogical motivation; creates different type of problem or exercise to explore related or foundational concepts more deeply. | Applies a technique or explores concept not covered in the assignment or not discussed at length in lecture. | \n",
    "| <b> Clarity of Explanation </b> | Little or confusing explanation; figures lack labels or useful captions; no explanation of motivations. | Explanations are present, but unclear, unfocused, wordy or contain too much technical detail. | Clear and concise explanations of key ideas and motivations. | Also clear and concise, but includes illustrative figures; could be read and understood by students from a variety of backgrounds. |\n",
    "| <b> Depth of Exploration </b> | Content is obvious or closely imitates assignment problems. | Uses existing problem for different data. | Applies a variation of a technique to solve a problem with an interesting motivation; explores a concept in a series of related problems. | Applies several concepts or techniques; has clear focus of inquiry that is approached from multiple directions.|"
   ]
  },
  {
   "cell_type": "code",
   "execution_count": null,
   "metadata": {},
   "outputs": [],
   "source": []
  }
 ],
 "metadata": {
  "kernelspec": {
   "display_name": "Python 3",
   "language": "python",
   "name": "python3"
  },
  "language_info": {
   "codemirror_mode": {
    "name": "ipython",
    "version": 3
   },
   "file_extension": ".py",
   "mimetype": "text/x-python",
   "name": "python",
   "nbconvert_exporter": "python",
   "pygments_lexer": "ipython3",
   "version": "3.7.5"
  },
  "latex_envs": {
   "LaTeX_envs_menu_present": true,
   "autoclose": false,
   "autocomplete": true,
   "bibliofile": "biblio.bib",
   "cite_by": "apalike",
   "current_citInitial": 1,
   "eqLabelWithNumbers": true,
   "eqNumInitial": 1,
   "hotkeys": {
    "equation": "Ctrl-E",
    "itemize": "Ctrl-I"
   },
   "labels_anchors": false,
   "latex_user_defs": false,
   "report_style_numbering": false,
   "user_envs_cfg": false
  },
  "latex_metadata": {
   "affiliation": "Case Western Reserve University",
   "author": "Michael S. Lewicki",
   "title": "EECS 491 Spring 2019 Assignment 1 (A1)"
  },
  "toc": {
   "base_numbering": 1,
   "nav_menu": {},
   "number_sections": false,
   "sideBar": true,
   "skip_h1_title": false,
   "title_cell": "Table of Contents",
   "title_sidebar": "Contents",
   "toc_cell": false,
   "toc_position": {},
   "toc_section_display": true,
   "toc_window_display": true
  }
 },
 "nbformat": 4,
 "nbformat_minor": 2
}
